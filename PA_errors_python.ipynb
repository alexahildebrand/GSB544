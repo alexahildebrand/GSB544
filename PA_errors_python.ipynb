{
  "cells": [
    {
      "cell_type": "raw",
      "metadata": {
        "id": "Wm7rfPnRrrqm"
      },
      "source": [
        "---\n",
        "title: 'Practice Activity: Basic Syntax'\n",
        "output: html\n",
        "---"
      ]
    },
    {
      "cell_type": "markdown",
      "metadata": {
        "id": "0mbR_4URrrqo"
      },
      "source": [
        "## Overview\n",
        "\n",
        "In this PA, you will will be creating and manipulating basic objects to uncover a top secret message.\n",
        "\n",
        "### Hint 1\n",
        "\n",
        "As you work through this PA, you will encounter some code that does not work as you want it to.  Don't despair!  Errors (when R is unable to run your code) and bugs (when the code doesn't do what you hoped) are a natural part of coding.  Even the best of the best deal with these problems regularly - learning to track down the issue is a skill that you can learn and practice.\n",
        "\n",
        "Google is your friend!  If an error is confusing, copy it into Google and see what other people are saying.  If you don't know how to do something, search for it.\n",
        "\n",
        "### Hint 2\n",
        "\n",
        "Just because there is no error message doesn't mean everything went smoothly.  You should be regularly printing out your objects, to see they contain the information and format that you expect.\n",
        "\n",
        "For example, if you have an object named `my_thing`, you might first want to simply look at the object by typing its name.\n",
        "\n",
        "However, you might also want to make sure it is the right **object type** and/or the right **object structure**.\n"
      ]
    },
    {
      "cell_type": "code",
      "metadata": {
        "id": "D5pSzgxjrrqq",
        "colab": {
          "base_uri": "https://localhost:8080/",
          "height": 192
        },
        "outputId": "a5ffae1a-9cdb-49d9-b0a0-5fafb01ac707"
      },
      "source": [
        "type(my_thing)\n",
        "len(my_thing)"
      ],
      "execution_count": 1,
      "outputs": [
        {
          "output_type": "error",
          "ename": "NameError",
          "evalue": "ignored",
          "traceback": [
            "\u001b[0;31m---------------------------------------------------------------------------\u001b[0m",
            "\u001b[0;31mNameError\u001b[0m                                 Traceback (most recent call last)",
            "\u001b[0;32m<ipython-input-1-8f79b70e1a7c>\u001b[0m in \u001b[0;36m<cell line: 1>\u001b[0;34m()\u001b[0m\n\u001b[0;32m----> 1\u001b[0;31m \u001b[0mtype\u001b[0m\u001b[0;34m(\u001b[0m\u001b[0mmy_thing\u001b[0m\u001b[0;34m)\u001b[0m\u001b[0;34m\u001b[0m\u001b[0;34m\u001b[0m\u001b[0m\n\u001b[0m\u001b[1;32m      2\u001b[0m \u001b[0mlen\u001b[0m\u001b[0;34m(\u001b[0m\u001b[0mmy_thing\u001b[0m\u001b[0;34m)\u001b[0m\u001b[0;34m\u001b[0m\u001b[0;34m\u001b[0m\u001b[0m\n",
            "\u001b[0;31mNameError\u001b[0m: name 'my_thing' is not defined"
          ]
        }
      ]
    },
    {
      "cell_type": "markdown",
      "metadata": {
        "id": "QpUJsmq0rrqr"
      },
      "source": [
        "## Part One: Setup\n",
        "\n",
        "Each of the following code chunks will cause an error and/or do the desired task incorrectly.  Find the mistake, and correct it to complete the intended action.\n",
        "\n",
        "\n",
        "\n",
        "\n",
        "1. Create lists containing the upper case letters, lower case letters, and some punctuation marks.\n"
      ]
    },
    {
      "cell_type": "code",
      "metadata": {
        "id": "tk5bezBJrrqs"
      },
      "source": [
        "lower_case = [\"a\", \"b\", \"c\", \"d\", \"e\", \"f\", \"g\", \"h\", \"i\", \"j\", \"k\", \"l\", \"m\", \"n\", \"o\", \"p\", \"q\", \"r\", \"s\", \"t\", \"u\", \"v\", \"w\", \"x\", \"y\", \"z\"]\n",
        "\n",
        "upper_case = [\"A\", \"B\", \"C\", \"D\", \"E\", \"F\", \"G\", \"H\", \"I\", \"J\", \"K\", \"L\", \"M\", \"N\", \"O\", \"P\", \"Q\", \"R\", \"S\", \"T\", \"U\", \"V\", \"W\", \"X\", \"Y\", \"Z\"]\n",
        "\n",
        "punctuation = [\".\", \",\", \"!\", \"?\", \"'\", \"\\\"\", \"(\", \")\", \" \", \"-\", \";\", \":\"]"
      ],
      "execution_count": 5,
      "outputs": []
    },
    {
      "cell_type": "code",
      "source": [
        "punctuation"
      ],
      "metadata": {
        "colab": {
          "base_uri": "https://localhost:8080/"
        },
        "id": "v7aWx4YhUh4M",
        "outputId": "47383567-4ea8-444c-8f10-74f850e981d5"
      },
      "execution_count": 8,
      "outputs": [
        {
          "output_type": "execute_result",
          "data": {
            "text/plain": [
              "['.', ',', '!', '?', \"'\", '\"', '(', ')', ' ', '-', ';', ':']"
            ]
          },
          "metadata": {},
          "execution_count": 8
        }
      ]
    },
    {
      "cell_type": "markdown",
      "metadata": {
        "id": "ZejwK6urrrqs"
      },
      "source": [
        "2. Make one long list containing all the symbols.  Find the length of this list.\n"
      ]
    },
    {
      "cell_type": "code",
      "source": [
        "all_symbols = lower_case  + upper_case + punctuation\n",
        "len(all_symbols)"
      ],
      "metadata": {
        "colab": {
          "base_uri": "https://localhost:8080/"
        },
        "id": "ymddRthbVAl9",
        "outputId": "a90d9fcf-18e6-4830-8b4c-50ab671ee4cb"
      },
      "execution_count": 12,
      "outputs": [
        {
          "output_type": "execute_result",
          "data": {
            "text/plain": [
              "64"
            ]
          },
          "metadata": {},
          "execution_count": 12
        }
      ]
    },
    {
      "cell_type": "markdown",
      "metadata": {
        "id": "HvgV76Dbrrqt"
      },
      "source": [
        "3. Repeat the previous steps, but instead of using *list* type objects, use **numpy arrays**.  Don't forget to **import** the numpy library!\n"
      ]
    },
    {
      "cell_type": "code",
      "metadata": {
        "id": "x9YyIMP6rrqt"
      },
      "source": [
        "import numpy as np\n",
        "from numpy import array\n",
        "\n",
        "lower_case = array([\"a\", \"b\", \"c\", \"d\", \"e\", \"f\", \"g\", \"h\", \"i\", \"j\", \"k\", \"l\", \"m\", \"n\", \"o\", \"p\", \"q\", \"r\", \"s\", \"t\", \"u\", \"v\", \"w\", \"x\", \"y\", \"z\"])\n",
        "\n",
        "upper_case = array([\"A\", \"B\", \"C\", \"D\", \"E\", \"F\", \"G\", \"H\", \"I\", \"J\", \"K\", \"L\", \"M\", \"N\", \"O\", \"P\", \"Q\", \"R\", \"S\", \"T\", \"U\", \"V\", \"W\", \"X\", \"Y\", \"Z\"])\n",
        "\n",
        "punctuation = array([\".\", \",\", \"!\", \"?\", \"'\", \"\\\"\", \"(\", \")\", \" \", \"-\", \";\", \":\"])\n",
        "\n",
        "## Use np.concatenate to combine into long array\n",
        "all_symbols = np.concatenate((lower_case, upper_case, punctuation))"
      ],
      "execution_count": 14,
      "outputs": []
    },
    {
      "cell_type": "code",
      "source": [
        "all_symbols"
      ],
      "metadata": {
        "colab": {
          "base_uri": "https://localhost:8080/"
        },
        "id": "UQgk0zq9VruU",
        "outputId": "078cad93-f120-4274-e6c5-84e84ae7ba89"
      },
      "execution_count": 15,
      "outputs": [
        {
          "output_type": "execute_result",
          "data": {
            "text/plain": [
              "array(['a', 'b', 'c', 'd', 'e', 'f', 'g', 'h', 'i', 'j', 'k', 'l', 'm',\n",
              "       'n', 'o', 'p', 'q', 'r', 's', 't', 'u', 'v', 'w', 'x', 'y', 'z',\n",
              "       'A', 'B', 'C', 'D', 'E', 'F', 'G', 'H', 'I', 'J', 'K', 'L', 'M',\n",
              "       'N', 'O', 'P', 'Q', 'R', 'S', 'T', 'U', 'V', 'W', 'X', 'Y', 'Z',\n",
              "       '.', ',', '!', '?', \"'\", '\"', '(', ')', ' ', '-', ';', ':'],\n",
              "      dtype='<U1')"
            ]
          },
          "metadata": {},
          "execution_count": 15
        }
      ]
    },
    {
      "cell_type": "markdown",
      "metadata": {
        "id": "rpbAtPlXrrqt"
      },
      "source": [
        "4. Make a **pandas data frame**, with one column called \"Symbol\" containing the `all_symbols` array.\n"
      ]
    },
    {
      "cell_type": "code",
      "metadata": {
        "id": "K103ZvNVrrqu",
        "colab": {
          "base_uri": "https://localhost:8080/",
          "height": 423
        },
        "outputId": "32d94f2c-21c6-4a3f-8120-0250d6f5c0d6"
      },
      "source": [
        "import pandas as pd\n",
        "\n",
        "symbols_df = pd.DataFrame(all_symbols)\n",
        "\n",
        "symbols_df.rename(columns = {symbols_df.columns[0]:\"Symbol\"}, inplace=True)\n",
        "symbols_df\n",
        "\n",
        "#https://sparkbyexamples.com/python/pandas-rename-column-by-index/#:~:text=2.-,Rename%20Column%20Name%20by%20Index,where%20you%20wanted%20to%20rename."
      ],
      "execution_count": 25,
      "outputs": [
        {
          "output_type": "execute_result",
          "data": {
            "text/plain": [
              "   Symbol\n",
              "0       a\n",
              "1       b\n",
              "2       c\n",
              "3       d\n",
              "4       e\n",
              "..    ...\n",
              "59      )\n",
              "60       \n",
              "61      -\n",
              "62      ;\n",
              "63      :\n",
              "\n",
              "[64 rows x 1 columns]"
            ],
            "text/html": [
              "\n",
              "  <div id=\"df-f9266904-5224-46cb-a62a-7e0d51800f0c\" class=\"colab-df-container\">\n",
              "    <div>\n",
              "<style scoped>\n",
              "    .dataframe tbody tr th:only-of-type {\n",
              "        vertical-align: middle;\n",
              "    }\n",
              "\n",
              "    .dataframe tbody tr th {\n",
              "        vertical-align: top;\n",
              "    }\n",
              "\n",
              "    .dataframe thead th {\n",
              "        text-align: right;\n",
              "    }\n",
              "</style>\n",
              "<table border=\"1\" class=\"dataframe\">\n",
              "  <thead>\n",
              "    <tr style=\"text-align: right;\">\n",
              "      <th></th>\n",
              "      <th>Symbol</th>\n",
              "    </tr>\n",
              "  </thead>\n",
              "  <tbody>\n",
              "    <tr>\n",
              "      <th>0</th>\n",
              "      <td>a</td>\n",
              "    </tr>\n",
              "    <tr>\n",
              "      <th>1</th>\n",
              "      <td>b</td>\n",
              "    </tr>\n",
              "    <tr>\n",
              "      <th>2</th>\n",
              "      <td>c</td>\n",
              "    </tr>\n",
              "    <tr>\n",
              "      <th>3</th>\n",
              "      <td>d</td>\n",
              "    </tr>\n",
              "    <tr>\n",
              "      <th>4</th>\n",
              "      <td>e</td>\n",
              "    </tr>\n",
              "    <tr>\n",
              "      <th>...</th>\n",
              "      <td>...</td>\n",
              "    </tr>\n",
              "    <tr>\n",
              "      <th>59</th>\n",
              "      <td>)</td>\n",
              "    </tr>\n",
              "    <tr>\n",
              "      <th>60</th>\n",
              "      <td></td>\n",
              "    </tr>\n",
              "    <tr>\n",
              "      <th>61</th>\n",
              "      <td>-</td>\n",
              "    </tr>\n",
              "    <tr>\n",
              "      <th>62</th>\n",
              "      <td>;</td>\n",
              "    </tr>\n",
              "    <tr>\n",
              "      <th>63</th>\n",
              "      <td>:</td>\n",
              "    </tr>\n",
              "  </tbody>\n",
              "</table>\n",
              "<p>64 rows × 1 columns</p>\n",
              "</div>\n",
              "    <div class=\"colab-df-buttons\">\n",
              "\n",
              "  <div class=\"colab-df-container\">\n",
              "    <button class=\"colab-df-convert\" onclick=\"convertToInteractive('df-f9266904-5224-46cb-a62a-7e0d51800f0c')\"\n",
              "            title=\"Convert this dataframe to an interactive table.\"\n",
              "            style=\"display:none;\">\n",
              "\n",
              "  <svg xmlns=\"http://www.w3.org/2000/svg\" height=\"24px\" viewBox=\"0 -960 960 960\">\n",
              "    <path d=\"M120-120v-720h720v720H120Zm60-500h600v-160H180v160Zm220 220h160v-160H400v160Zm0 220h160v-160H400v160ZM180-400h160v-160H180v160Zm440 0h160v-160H620v160ZM180-180h160v-160H180v160Zm440 0h160v-160H620v160Z\"/>\n",
              "  </svg>\n",
              "    </button>\n",
              "\n",
              "  <style>\n",
              "    .colab-df-container {\n",
              "      display:flex;\n",
              "      gap: 12px;\n",
              "    }\n",
              "\n",
              "    .colab-df-convert {\n",
              "      background-color: #E8F0FE;\n",
              "      border: none;\n",
              "      border-radius: 50%;\n",
              "      cursor: pointer;\n",
              "      display: none;\n",
              "      fill: #1967D2;\n",
              "      height: 32px;\n",
              "      padding: 0 0 0 0;\n",
              "      width: 32px;\n",
              "    }\n",
              "\n",
              "    .colab-df-convert:hover {\n",
              "      background-color: #E2EBFA;\n",
              "      box-shadow: 0px 1px 2px rgba(60, 64, 67, 0.3), 0px 1px 3px 1px rgba(60, 64, 67, 0.15);\n",
              "      fill: #174EA6;\n",
              "    }\n",
              "\n",
              "    .colab-df-buttons div {\n",
              "      margin-bottom: 4px;\n",
              "    }\n",
              "\n",
              "    [theme=dark] .colab-df-convert {\n",
              "      background-color: #3B4455;\n",
              "      fill: #D2E3FC;\n",
              "    }\n",
              "\n",
              "    [theme=dark] .colab-df-convert:hover {\n",
              "      background-color: #434B5C;\n",
              "      box-shadow: 0px 1px 3px 1px rgba(0, 0, 0, 0.15);\n",
              "      filter: drop-shadow(0px 1px 2px rgba(0, 0, 0, 0.3));\n",
              "      fill: #FFFFFF;\n",
              "    }\n",
              "  </style>\n",
              "\n",
              "    <script>\n",
              "      const buttonEl =\n",
              "        document.querySelector('#df-f9266904-5224-46cb-a62a-7e0d51800f0c button.colab-df-convert');\n",
              "      buttonEl.style.display =\n",
              "        google.colab.kernel.accessAllowed ? 'block' : 'none';\n",
              "\n",
              "      async function convertToInteractive(key) {\n",
              "        const element = document.querySelector('#df-f9266904-5224-46cb-a62a-7e0d51800f0c');\n",
              "        const dataTable =\n",
              "          await google.colab.kernel.invokeFunction('convertToInteractive',\n",
              "                                                    [key], {});\n",
              "        if (!dataTable) return;\n",
              "\n",
              "        const docLinkHtml = 'Like what you see? Visit the ' +\n",
              "          '<a target=\"_blank\" href=https://colab.research.google.com/notebooks/data_table.ipynb>data table notebook</a>'\n",
              "          + ' to learn more about interactive tables.';\n",
              "        element.innerHTML = '';\n",
              "        dataTable['output_type'] = 'display_data';\n",
              "        await google.colab.output.renderOutput(dataTable, element);\n",
              "        const docLink = document.createElement('div');\n",
              "        docLink.innerHTML = docLinkHtml;\n",
              "        element.appendChild(docLink);\n",
              "      }\n",
              "    </script>\n",
              "  </div>\n",
              "\n",
              "\n",
              "<div id=\"df-54db3554-80d8-42cb-a106-18dd1449d0b5\">\n",
              "  <button class=\"colab-df-quickchart\" onclick=\"quickchart('df-54db3554-80d8-42cb-a106-18dd1449d0b5')\"\n",
              "            title=\"Suggest charts.\"\n",
              "            style=\"display:none;\">\n",
              "\n",
              "<svg xmlns=\"http://www.w3.org/2000/svg\" height=\"24px\"viewBox=\"0 0 24 24\"\n",
              "     width=\"24px\">\n",
              "    <g>\n",
              "        <path d=\"M19 3H5c-1.1 0-2 .9-2 2v14c0 1.1.9 2 2 2h14c1.1 0 2-.9 2-2V5c0-1.1-.9-2-2-2zM9 17H7v-7h2v7zm4 0h-2V7h2v10zm4 0h-2v-4h2v4z\"/>\n",
              "    </g>\n",
              "</svg>\n",
              "  </button>\n",
              "\n",
              "<style>\n",
              "  .colab-df-quickchart {\n",
              "      --bg-color: #E8F0FE;\n",
              "      --fill-color: #1967D2;\n",
              "      --hover-bg-color: #E2EBFA;\n",
              "      --hover-fill-color: #174EA6;\n",
              "      --disabled-fill-color: #AAA;\n",
              "      --disabled-bg-color: #DDD;\n",
              "  }\n",
              "\n",
              "  [theme=dark] .colab-df-quickchart {\n",
              "      --bg-color: #3B4455;\n",
              "      --fill-color: #D2E3FC;\n",
              "      --hover-bg-color: #434B5C;\n",
              "      --hover-fill-color: #FFFFFF;\n",
              "      --disabled-bg-color: #3B4455;\n",
              "      --disabled-fill-color: #666;\n",
              "  }\n",
              "\n",
              "  .colab-df-quickchart {\n",
              "    background-color: var(--bg-color);\n",
              "    border: none;\n",
              "    border-radius: 50%;\n",
              "    cursor: pointer;\n",
              "    display: none;\n",
              "    fill: var(--fill-color);\n",
              "    height: 32px;\n",
              "    padding: 0;\n",
              "    width: 32px;\n",
              "  }\n",
              "\n",
              "  .colab-df-quickchart:hover {\n",
              "    background-color: var(--hover-bg-color);\n",
              "    box-shadow: 0 1px 2px rgba(60, 64, 67, 0.3), 0 1px 3px 1px rgba(60, 64, 67, 0.15);\n",
              "    fill: var(--button-hover-fill-color);\n",
              "  }\n",
              "\n",
              "  .colab-df-quickchart-complete:disabled,\n",
              "  .colab-df-quickchart-complete:disabled:hover {\n",
              "    background-color: var(--disabled-bg-color);\n",
              "    fill: var(--disabled-fill-color);\n",
              "    box-shadow: none;\n",
              "  }\n",
              "\n",
              "  .colab-df-spinner {\n",
              "    border: 2px solid var(--fill-color);\n",
              "    border-color: transparent;\n",
              "    border-bottom-color: var(--fill-color);\n",
              "    animation:\n",
              "      spin 1s steps(1) infinite;\n",
              "  }\n",
              "\n",
              "  @keyframes spin {\n",
              "    0% {\n",
              "      border-color: transparent;\n",
              "      border-bottom-color: var(--fill-color);\n",
              "      border-left-color: var(--fill-color);\n",
              "    }\n",
              "    20% {\n",
              "      border-color: transparent;\n",
              "      border-left-color: var(--fill-color);\n",
              "      border-top-color: var(--fill-color);\n",
              "    }\n",
              "    30% {\n",
              "      border-color: transparent;\n",
              "      border-left-color: var(--fill-color);\n",
              "      border-top-color: var(--fill-color);\n",
              "      border-right-color: var(--fill-color);\n",
              "    }\n",
              "    40% {\n",
              "      border-color: transparent;\n",
              "      border-right-color: var(--fill-color);\n",
              "      border-top-color: var(--fill-color);\n",
              "    }\n",
              "    60% {\n",
              "      border-color: transparent;\n",
              "      border-right-color: var(--fill-color);\n",
              "    }\n",
              "    80% {\n",
              "      border-color: transparent;\n",
              "      border-right-color: var(--fill-color);\n",
              "      border-bottom-color: var(--fill-color);\n",
              "    }\n",
              "    90% {\n",
              "      border-color: transparent;\n",
              "      border-bottom-color: var(--fill-color);\n",
              "    }\n",
              "  }\n",
              "</style>\n",
              "\n",
              "  <script>\n",
              "    async function quickchart(key) {\n",
              "      const quickchartButtonEl =\n",
              "        document.querySelector('#' + key + ' button');\n",
              "      quickchartButtonEl.disabled = true;  // To prevent multiple clicks.\n",
              "      quickchartButtonEl.classList.add('colab-df-spinner');\n",
              "      try {\n",
              "        const charts = await google.colab.kernel.invokeFunction(\n",
              "            'suggestCharts', [key], {});\n",
              "      } catch (error) {\n",
              "        console.error('Error during call to suggestCharts:', error);\n",
              "      }\n",
              "      quickchartButtonEl.classList.remove('colab-df-spinner');\n",
              "      quickchartButtonEl.classList.add('colab-df-quickchart-complete');\n",
              "    }\n",
              "    (() => {\n",
              "      let quickchartButtonEl =\n",
              "        document.querySelector('#df-54db3554-80d8-42cb-a106-18dd1449d0b5 button');\n",
              "      quickchartButtonEl.style.display =\n",
              "        google.colab.kernel.accessAllowed ? 'block' : 'none';\n",
              "    })();\n",
              "  </script>\n",
              "</div>\n",
              "    </div>\n",
              "  </div>\n"
            ]
          },
          "metadata": {},
          "execution_count": 25
        }
      ]
    },
    {
      "cell_type": "markdown",
      "metadata": {
        "id": "L-m2LLyHrrqu"
      },
      "source": [
        "## Part Two: Decoding the secret message.\n"
      ]
    },
    {
      "cell_type": "code",
      "metadata": {
        "id": "iP7Zj5hPrrqu"
      },
      "source": [
        "import pandas as pd\n",
        "import numpy as np\n",
        "top_secret = pd.read_csv(\"https://www.dropbox.com/s/k72h1zewk4gtqep/PA_Secret_Code?dl=1\", header=None)\n",
        "top_secret = top_secret.to_numpy()"
      ],
      "execution_count": 11,
      "outputs": []
    },
    {
      "cell_type": "code",
      "source": [
        "top_secret"
      ],
      "metadata": {
        "id": "SGc_xLsFiK-M"
      },
      "execution_count": null,
      "outputs": []
    },
    {
      "cell_type": "markdown",
      "metadata": {
        "id": "T3ui38Z9rrqu"
      },
      "source": [
        "### Hint\n",
        "\n",
        "Recall that basic math operations are **vectorized**.  This means you don't have to repeat the process for each item in a list; you can apply the math to the whole thing at once.\n",
        "\n",
        "### Instructions\n",
        "\n",
        "By altering this top secret set of numbers, you will be able to create a message.  Write your own code to complete the steps below.\n",
        "\n",
        "1. Add 14 to every number.\n",
        "\n",
        "\n",
        "\n",
        "2. Multiply every number by 18, then subtract 257.\n",
        "3. Exponentiate every number.  (That is, do e^[number].  You may have to Google how to do this!)\n",
        "4. Square every number.\n",
        "\n",
        "**Checkpoint:** Headquarters has informed you that at this stage of decoding, there should be 352 numbers in the secret message that are below 17.  Write code to check if this is true for your data.\n",
        "\n",
        "\n",
        "5. Turn your one-dimensional array of numbers into a two-dimensional array (matrix) with 5 columns.\n",
        "6. Separately from your top secret numbers, create an array of all the even numbers between 1 and 382. Name it \"evens\". That is, \"evens\" should contain 2, 4, 6, 8 ..., 382.\n",
        "7. Subtract the \"evens\" vector from the first column of your secret message matrix.\n",
        "8. Subtract 100 from all numbers in the 18-24th rows of the 3rd column.\n",
        "9. Multiply all numbers in the 4th and 5th column by 2.\n",
        "10. Turn your matrix back into a one dimensional array.\n",
        "\n",
        "\n",
        "**Checkpoint:** Headquarters has informed you that at this stage of decoding, all numbers in indices 500 and beyond are below 100.  Write code to check if your numbers fulfill this requirement.\n",
        "\n",
        "11. Take the square root of all numbers in indices 38 to 465.\n",
        "12. Round all numbers to the nearest whole number.\n",
        "13. Replace all instances of the number 39 with 20.\n",
        "\n",
        "**Checkpoint:** Headquarters has informed you that your final message should have 344 even numbers.  Write code to check if your numbers fulfill this requirement.\n",
        "\n",
        "## Part 3: The secret message!\n",
        "\n",
        "Run the following to discover the final message!  Google the first line of this message, if you do not recognize it, to see what it is.\n"
      ]
    },
    {
      "cell_type": "code",
      "source": [
        "#Add 14 to every number.\n",
        "\n",
        "top_secret = top_secret + 14\n",
        "\n",
        "#Multiply every number by 18, then subtract 257.\n",
        "\n",
        "top_secret = top_secret *18 - 257\n",
        "\n",
        "#Exponentiate every number. (That is, do e^[number]. You may have to Google how to do this!)\n",
        "\n",
        "top_secret = np.exp(top_secret)\n",
        "\n",
        "#Square every number.\n",
        "\n",
        "top_secret = np.square(top_secret)\n",
        "\n",
        "#Checkpoint 1: there should be 352 numbers in the secret message that are below 17\n",
        "(top_secret <17).sum()"
      ],
      "metadata": {
        "colab": {
          "base_uri": "https://localhost:8080/"
        },
        "id": "cIt5dHMWYt7n",
        "outputId": "2740e38d-bd86-40a2-d3dc-d77f0796673f"
      },
      "execution_count": 13,
      "outputs": [
        {
          "output_type": "execute_result",
          "data": {
            "text/plain": [
              "352"
            ]
          },
          "metadata": {},
          "execution_count": 13
        }
      ]
    },
    {
      "cell_type": "code",
      "source": [
        "#Turn your one-dimensional array of numbers into a two-dimensional array (matrix) with 5 columns.\n",
        "\n",
        "from numpy import matrix\n",
        "\n",
        "top_secret = np.reshape(top_secret, (-1,5))\n",
        "\n",
        "#Separately from your top secret numbers, create an array of all the even numbers between 1 and 382. Name it \"evens\". That is, \"evens\" should contain 2, 4, 6, 8 ..., 382.\n",
        "\n",
        "evens = np.arange(1,382,2)\n",
        "\n",
        "#Subtract the \"evens\" vector from the first column of your secret message matrix.\n",
        "\n",
        "top_secret = np.subtract ((top_secret[0]), evens)\n",
        "\n",
        "#Subtract 100 from all numbers in the 18-24th rows of the 3rd column.\n",
        "#Multiply all numbers in the 4th and 5th column by 2.\n",
        "#Turn your matrix back into a one dimensional array."
      ],
      "metadata": {
        "colab": {
          "base_uri": "https://localhost:8080/",
          "height": 245
        },
        "id": "X2SSDNiNZ3gj",
        "outputId": "efdc4568-a289-45e1-916b-c2e8cbba9337"
      },
      "execution_count": 25,
      "outputs": [
        {
          "output_type": "error",
          "ename": "ValueError",
          "evalue": "ignored",
          "traceback": [
            "\u001b[0;31m---------------------------------------------------------------------------\u001b[0m",
            "\u001b[0;31mValueError\u001b[0m                                Traceback (most recent call last)",
            "\u001b[0;32m<ipython-input-25-c18dd14d66e2>\u001b[0m in \u001b[0;36m<cell line: 13>\u001b[0;34m()\u001b[0m\n\u001b[1;32m     11\u001b[0m \u001b[0;31m#Subtract the \"evens\" vector from the first column of your secret message matrix.\u001b[0m\u001b[0;34m\u001b[0m\u001b[0;34m\u001b[0m\u001b[0m\n\u001b[1;32m     12\u001b[0m \u001b[0;34m\u001b[0m\u001b[0m\n\u001b[0;32m---> 13\u001b[0;31m \u001b[0mtop_secret\u001b[0m \u001b[0;34m=\u001b[0m \u001b[0mnp\u001b[0m\u001b[0;34m.\u001b[0m\u001b[0msubtract\u001b[0m \u001b[0;34m(\u001b[0m\u001b[0;34m(\u001b[0m\u001b[0mtop_secret\u001b[0m\u001b[0;34m[\u001b[0m\u001b[0;36m0\u001b[0m\u001b[0;34m]\u001b[0m\u001b[0;34m)\u001b[0m\u001b[0;34m,\u001b[0m \u001b[0mevens\u001b[0m\u001b[0;34m)\u001b[0m\u001b[0;34m\u001b[0m\u001b[0;34m\u001b[0m\u001b[0m\n\u001b[0m\u001b[1;32m     14\u001b[0m \u001b[0;34m\u001b[0m\u001b[0m\n\u001b[1;32m     15\u001b[0m \u001b[0;31m#Subtract 100 from all numbers in the 18-24th rows of the 3rd column.\u001b[0m\u001b[0;34m\u001b[0m\u001b[0;34m\u001b[0m\u001b[0m\n",
            "\u001b[0;31mValueError\u001b[0m: operands could not be broadcast together with shapes (1,5) (191,) "
          ]
        }
      ]
    },
    {
      "cell_type": "code",
      "source": [
        "evens"
      ],
      "metadata": {
        "colab": {
          "base_uri": "https://localhost:8080/"
        },
        "id": "mFgFk3NYpO-W",
        "outputId": "610cd8fe-4ac1-4e5b-8819-2afc6846f39e"
      },
      "execution_count": 26,
      "outputs": [
        {
          "output_type": "execute_result",
          "data": {
            "text/plain": [
              "array([  1,   3,   5,   7,   9,  11,  13,  15,  17,  19,  21,  23,  25,\n",
              "        27,  29,  31,  33,  35,  37,  39,  41,  43,  45,  47,  49,  51,\n",
              "        53,  55,  57,  59,  61,  63,  65,  67,  69,  71,  73,  75,  77,\n",
              "        79,  81,  83,  85,  87,  89,  91,  93,  95,  97,  99, 101, 103,\n",
              "       105, 107, 109, 111, 113, 115, 117, 119, 121, 123, 125, 127, 129,\n",
              "       131, 133, 135, 137, 139, 141, 143, 145, 147, 149, 151, 153, 155,\n",
              "       157, 159, 161, 163, 165, 167, 169, 171, 173, 175, 177, 179, 181,\n",
              "       183, 185, 187, 189, 191, 193, 195, 197, 199, 201, 203, 205, 207,\n",
              "       209, 211, 213, 215, 217, 219, 221, 223, 225, 227, 229, 231, 233,\n",
              "       235, 237, 239, 241, 243, 245, 247, 249, 251, 253, 255, 257, 259,\n",
              "       261, 263, 265, 267, 269, 271, 273, 275, 277, 279, 281, 283, 285,\n",
              "       287, 289, 291, 293, 295, 297, 299, 301, 303, 305, 307, 309, 311,\n",
              "       313, 315, 317, 319, 321, 323, 325, 327, 329, 331, 333, 335, 337,\n",
              "       339, 341, 343, 345, 347, 349, 351, 353, 355, 357, 359, 361, 363,\n",
              "       365, 367, 369, 371, 373, 375, 377, 379, 381])"
            ]
          },
          "metadata": {},
          "execution_count": 26
        }
      ]
    },
    {
      "cell_type": "code",
      "metadata": {
        "id": "v_bB8VNvrrqu"
      },
      "source": [
        "''.join(map(str, symbols_df.loc[top_secret]['Symbol']))"
      ],
      "execution_count": null,
      "outputs": []
    }
  ],
  "metadata": {
    "kernelspec": {
      "name": "python3",
      "language": "python",
      "display_name": "Python 3 (ipykernel)"
    },
    "colab": {
      "provenance": []
    }
  },
  "nbformat": 4,
  "nbformat_minor": 0
}